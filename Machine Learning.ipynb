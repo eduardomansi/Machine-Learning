{
 "cells": [
  {
   "cell_type": "markdown",
   "metadata": {
    "id": "7bYyOjdzhs1T"
   },
   "source": [
    "# Decision Tree & Ensemble Learning"
   ]
  },
  {
   "cell_type": "code",
   "execution_count": 1,
   "metadata": {
    "id": "WsJh8RbLhs1V"
   },
   "outputs": [],
   "source": [
    "%matplotlib inline\n",
    "import numpy as np\n",
    "import matplotlib.pyplot as plt\n",
    "import seaborn as sns\n",
    "import pandas as pd\n",
    "from matplotlib.legend_handler import HandlerLine2D\n",
    "from sklearn.metrics import accuracy_score\n",
    "from sklearn.metrics import confusion_matrix\n",
    "from sklearn.metrics import mean_squared_error\n",
    "from sklearn.metrics import mean_absolute_error\n",
    "from sklearn.tree import DecisionTreeClassifier\n",
    "from sklearn.tree import DecisionTreeRegressor\n",
    "from sklearn.model_selection import GridSearchCV\n",
    "\n",
    "np.random.seed(0)"
   ]
  },
  {
   "cell_type": "markdown",
   "metadata": {
    "id": "0wdJsuTqhs1a"
   },
   "source": [
    "## Gini impurity and Entropy\n"
   ]
  },
  {
   "cell_type": "markdown",
   "metadata": {
    "id": "gzfYaZ-hhs1b"
   },
   "source": [
    "#### Gini impurity\n",
    "\n",
    "Measures the impurity of the data points in a set and is used to evaluate how good a split is when the CART algorithm searches for the best pair of feature and the threshold.\n",
    "\n",
    "To compute Gini impurity for a set of items with J classes, suppose $i \\in \\{1, 2, \\dots, J\\}$ and let $p_i$ be the fraction of items labeled with class i in the set.\n",
    "\\begin{align}\n",
    "I(p) = 1 - \\sum_{i=1}^J p_i^2\n",
    "\\end{align}\n",
    "\n",
    "The following function calculates the gini impurity for a given set of data points. Even tough the sci-kit learn package would do it internally its good to have the intuition."
   ]
  },
  {
   "cell_type": "code",
   "execution_count": 2,
   "metadata": {
    "id": "sNexBvnehs1c"
   },
   "outputs": [],
   "source": [
    "def gini_impurity(x):\n",
    "    \n",
    "    unique, counts = np.unique(x, return_counts=True)\n",
    "    probabilities = counts / sum(counts)\n",
    "    gini = 1 - sum([p*p for p in probabilities])\n",
    "\n",
    "    return gini"
   ]
  },
  {
   "cell_type": "code",
   "execution_count": 3,
   "metadata": {
    "id": "WmZaWVMxhs1g"
   },
   "outputs": [],
   "source": [
    "np.testing.assert_equal(0, gini_impurity(np.array([1, 1, 1])))\n",
    "np.testing.assert_equal(0.5, gini_impurity(np.array([1, 0, 1, 0])))\n",
    "np.testing.assert_equal(3/4, gini_impurity(np.array(['a', 'b', 'c', 'd'])))\n",
    "np.testing.assert_almost_equal(2.0/3, gini_impurity(np.array([1, 2, 3, 1, 2, 3])))"
   ]
  },
  {
   "cell_type": "markdown",
   "metadata": {
    "id": "bSsc9tL7hs1k"
   },
   "source": [
    "#### Entropy\n",
    "\n",
    "Another popular measure of impurity is the entropy, and is calculated as follows:\n",
    "\\begin{align}\n",
    "I(p) = - \\sum_{i=1}^J p_i log_2{p_i}\n",
    "\\end{align}\n"
   ]
  },
  {
   "cell_type": "code",
   "execution_count": 4,
   "metadata": {
    "id": "Wr8caP2Xhs1l"
   },
   "outputs": [],
   "source": [
    "def entropy(x):\n",
    "   \n",
    "    unique, counts = np.unique(x,return_counts=True)\n",
    "    probabilities = counts / sum(counts)\n",
    "    # e = sum([-p*(np.log(p)/np.log(2)) for p in probabilities]) // same thing to create base 2 log\n",
    "    e = sum([-p*np.log2(p) for p in probabilities])\n",
    "\n",
    "    return e"
   ]
  },
  {
   "cell_type": "code",
   "execution_count": 5,
   "metadata": {
    "id": "xpOdGMWDhs1p"
   },
   "outputs": [],
   "source": [
    "np.testing.assert_equal(0, entropy(np.array([1, 1, 1])))\n",
    "np.testing.assert_equal(1.0, entropy(np.array([1, 0, 1, 0])))\n",
    "np.testing.assert_equal(2.0, entropy(np.array(['a', 'b', 'c', 'd'])))\n",
    "np.testing.assert_almost_equal(1.58496, entropy(np.array([1, 2, 3, 1, 2, 3])), 4)"
   ]
  },
  {
   "cell_type": "markdown",
   "metadata": {
    "id": "EZGblkNkhs2g"
   },
   "source": [
    "## Iris dataset\n",
    "\n",
    "We'll be applying several machine learning models under the well famous iris dataset.\n",
    "The Iris data set contains the morphologic variation of Iris flowers of three related species (Iris setosa, Iris virginica and Iris versicolor). Four features were measured from each observation (see image below):\n",
    "- Sepal.Length: sepal length in centimeters.\n",
    "- Sepal.Width: sepal width in centimeters.\n",
    "- Petal.Length: petal length in centimeters.\n",
    "- Petal.Width: petal width in centimeters.\n",
    "\n",
    "<table>\n",
    "  <tr>\n",
    "    <td><img src=\"https://upload.wikimedia.org/wikipedia/commons/thumb/5/56/Kosaciec_szczecinkowaty_Iris_setosa.jpg/180px-Kosaciec_szczecinkowaty_Iris_setosa.jpg\" style=\"width:250px\"></td>\n",
    "    <td><img src=\"https://www.math.umd.edu/~petersd/666/html/iris_with_labels.jpg\" width=\"250px\"></td>\n",
    "    <td><img src=\"https://upload.wikimedia.org/wikipedia/commons/thumb/9/9f/Iris_virginica.jpg/295px-Iris_virginica.jpg\" width=\"250px\"></td>\n",
    "  </tr>\n",
    "  <tr>\n",
    "    <td>Iris setosa</td>\n",
    "    <td>Iris versicolor</td>\n",
    "    <td>Iris virginica</td>\n",
    "  </tr>\n",
    "</table>\n"
   ]
  },
  {
   "cell_type": "code",
   "execution_count": 6,
   "metadata": {
    "colab": {
     "base_uri": "https://localhost:8080/"
    },
    "id": "8BfuNcWVhs2h",
    "outputId": "b3253772-9124-4d33-98cd-08dfba0c60ac"
   },
   "outputs": [
    {
     "name": "stdout",
     "output_type": "stream",
     "text": [
      "Iris-setosa        34\n",
      "Iris-versicolor    32\n",
      "Iris-virginica     39\n",
      "Name: species, dtype: int64\n",
      "Iris-setosa        16\n",
      "Iris-versicolor    18\n",
      "Iris-virginica     11\n",
      "Name: species, dtype: int64\n"
     ]
    }
   ],
   "source": [
    "train = pd.read_csv('Iristrain.csv')\n",
    "test = pd.read_csv('Iristest.csv')\n",
    "\n",
    "train_x = train.iloc[:,0:4]\n",
    "train_y = train.iloc[:,4]\n",
    "\n",
    "test_x = test.iloc[:,0:4]\n",
    "test_y = test.iloc[:,4]\n",
    "\n",
    "\n",
    "print(train_y.value_counts().sort_index())\n",
    "print(test_y.value_counts().sort_index())"
   ]
  },
  {
   "cell_type": "markdown",
   "metadata": {
    "id": "tpe8jv7Qhs2f"
   },
   "source": [
    "### Decision Tree Classifier\n",
    "\n"
   ]
  },
  {
   "cell_type": "markdown",
   "metadata": {
    "id": "8JwQoOdPhs2j"
   },
   "source": [
    "***Creating a decision tree with max_depth of 2.***"
   ]
  },
  {
   "cell_type": "code",
   "execution_count": 7,
   "metadata": {
    "colab": {
     "base_uri": "https://localhost:8080/"
    },
    "id": "kQzTTFGlhs2k",
    "outputId": "48d63b11-1731-476f-eb17-5ee3bdc9b2e2",
    "scrolled": true
   },
   "outputs": [
    {
     "data": {
      "text/plain": [
       "DecisionTreeClassifier(max_depth=2)"
      ]
     },
     "execution_count": 7,
     "metadata": {},
     "output_type": "execute_result"
    }
   ],
   "source": [
    "dtc = DecisionTreeClassifier(max_depth=2)\n",
    "dtc.fit(train_x,train_y)"
   ]
  },
  {
   "cell_type": "markdown",
   "metadata": {
    "id": "W94pWMvIhs2t"
   },
   "source": [
    "#### Prediction with Decision tree\n",
    "\n",
    "With this simple decision tree above, we can apply it to make predictions on the test dataset and evaluate its performance.\n",
    "\n",
    "Making predictions using the trained decision tree model on the test data."
   ]
  },
  {
   "cell_type": "code",
   "execution_count": 8,
   "metadata": {
    "colab": {
     "base_uri": "https://localhost:8080/"
    },
    "id": "ugRPudSThs2u",
    "outputId": "98bf601d-08ac-417b-fff6-f8a035bd3930"
   },
   "outputs": [
    {
     "name": "stdout",
     "output_type": "stream",
     "text": [
      "model accuracy: 0.9111111111111111\n",
      "model confusion matrix:\n",
      " [[16  0  0]\n",
      " [ 0 17  1]\n",
      " [ 0  3  8]]\n"
     ]
    }
   ],
   "source": [
    "test_z = dtc.predict(test_x)\n",
    "\n",
    "print(\"model accuracy: {}\".format(accuracy_score(test_y, test_z)))\n",
    "print(\"model confusion matrix:\\n {}\".format(confusion_matrix(test_y, test_z, labels=['Iris-setosa', 'Iris-versicolor', 'Iris-virginica'])))"
   ]
  },
  {
   "cell_type": "markdown",
   "metadata": {
    "id": "RMzcZjQQhs2x"
   },
   "source": [
    "#### Hyper-parameters\n",
    "\n",
    "Training the decision trees with increasing number of maximum depth and plot its performance.\n",
    "\n",
    "For each value of max_depth, a decision tree model is trained and evaluated on both train and test data."
   ]
  },
  {
   "cell_type": "code",
   "execution_count": 9,
   "metadata": {
    "colab": {
     "base_uri": "https://localhost:8080/",
     "height": 312
    },
    "id": "uw23r_MXhs2x",
    "outputId": "3dda9ea4-fe4d-4b7e-c995-c30d30390288"
   },
   "outputs": [
    {
     "data": {
      "text/plain": [
       "Text(0.5, 1.0, 'Accuracy by Max-Depth')"
      ]
     },
     "execution_count": 9,
     "metadata": {},
     "output_type": "execute_result"
    },
    {
     "data": {
      "image/png": "[encoded data removed]",
      "text/plain": [
       "<Figure size 432x288 with 1 Axes>"
      ]
     },
     "metadata": {
      "needs_background": "light"
     },
     "output_type": "display_data"
    }
   ],
   "source": [
    "trainacc=[]\n",
    "testacc=[]\n",
    "for i in range(1,11):\n",
    "  dtc = DecisionTreeClassifier(max_depth=i)\n",
    "  dtc.fit(train_x, train_y)\n",
    "  test_z = dtc.predict(test_x)\n",
    "  testacc.append (accuracy_score(test_y, test_z))\n",
    "  test_z = dtc.predict(train_x)\n",
    "  trainacc.append (accuracy_score(train_y, test_z))\n",
    "\n",
    "plt.plot(np.linspace(1,10,10),trainacc,label=\"Train Accuracy\")\n",
    "plt.plot(np.linspace(1,10,10),testacc,label=\"Test Accuracy\")\n",
    "plt.legend()\n",
    "plt.xlabel('Max-Depth')\n",
    "plt.ylabel('Accuracy')\n",
    "plt.title('Accuracy by Max-Depth')\n"
   ]
  },
  {
   "cell_type": "markdown",
   "metadata": {
    "id": "2iaLr1ufhs20"
   },
   "source": [
    "#### Fine-tune the decision tree classifier\n",
    "\n",
    "Fine-tunning the model to combat overfitting using grid search with 3-fold cross validation"
   ]
  },
  {
   "cell_type": "code",
   "execution_count": 10,
   "metadata": {
    "colab": {
     "base_uri": "https://localhost:8080/"
    },
    "id": "9fuI5TWkhs21",
    "outputId": "87ee4567-b7c5-4aad-a387-2364d70e71cd"
   },
   "outputs": [
    {
     "name": "stdout",
     "output_type": "stream",
     "text": [
      "The best score is 0.9619047619047619\n",
      "The best hyper parameter setting is {'criterion': 'gini', 'max_depth': 3, 'min_samples_split': 0.01}\n"
     ]
    }
   ],
   "source": [
    "parameters = {\"criterion\":['gini','entropy'],\n",
    "              \"max_depth\": [1,2,3,4,5],\n",
    "              \"min_samples_split\": [0.01,0.05,0.1,0.2]\n",
    "              }\n",
    "\n",
    "dt = DecisionTreeClassifier()\n",
    "grid = GridSearchCV(dt,parameters, cv=3)\n",
    "grid.fit (train_x, train_y)\n",
    "\n",
    "# summarize the results of the grid search\n",
    "print(\"The best score is {}\".format(grid.best_score_))\n",
    "print(\"The best hyper parameter setting is {}\".format(grid.best_params_))"
   ]
  },
  {
   "cell_type": "markdown",
   "metadata": {
    "id": "ZXeHA4TThs24"
   },
   "source": [
    "#### Prediction and Evaluation\n",
    "\n",
    "Applying this model to make predictions on the test data and evaluating its performance."
   ]
  },
  {
   "cell_type": "code",
   "execution_count": 11,
   "metadata": {
    "colab": {
     "base_uri": "https://localhost:8080/"
    },
    "id": "pzGEUWFPhs24",
    "outputId": "346d6c23-9801-4ec1-8336-7248cae3048c"
   },
   "outputs": [
    {
     "name": "stdout",
     "output_type": "stream",
     "text": [
      "model accuracy: 0.9777777777777777\n",
      "model confusion matrix:\n",
      " [[16  0  0]\n",
      " [ 0 17  1]\n",
      " [ 0  0 11]]\n"
     ]
    }
   ],
   "source": [
    "test_z= grid.predict(test_x)\n",
    "\n",
    "print(\"model accuracy: {}\".format(accuracy_score(test_y, test_z)))\n",
    "print(\"model confusion matrix:\\n {}\".format(confusion_matrix(test_y, test_z, labels=['Iris-setosa', 'Iris-versicolor', 'Iris-virginica'])))"
   ]
  },
  {
   "cell_type": "markdown",
   "metadata": {
    "id": "fLrLCXpbIHI2"
   },
   "source": [
    "### Random Forest\n",
    "\n",
    "**Applying a Random Forest together with Gridsearch to the Iris dataset and evaluating its accuracy.**"
   ]
  },
  {
   "cell_type": "code",
   "execution_count": 12,
   "metadata": {
    "colab": {
     "base_uri": "https://localhost:8080/"
    },
    "id": "UTzDdKnoIDM1",
    "outputId": "53c7b696-9bd9-42a3-c15c-59760cccd076"
   },
   "outputs": [
    {
     "name": "stdout",
     "output_type": "stream",
     "text": [
      "The best score is 0.9619047619047619\n",
      "The best hyper parameter setting is {'criterion': 'gini', 'max_depth': 4, 'min_samples_split': 0.005, 'n_estimators': 20}\n"
     ]
    }
   ],
   "source": [
    "from sklearn.ensemble import RandomForestClassifier\n",
    "parameters ={\n",
    "    \"criterion\":['gini','entropy'],\n",
    "    \"n_estimators\":[10,20,50],\n",
    "    \"max_depth\": [2,3,4],\n",
    "    \"min_samples_split\": [.005,.01,.02]\n",
    "}\n",
    "\n",
    "rfc_grid = GridSearchCV(RandomForestClassifier(n_jobs=-1, random_state=0), parameters, cv=3)\n",
    "rfc_grid.fit(train_x, train_y)\n",
    "\n",
    "print(\"The best score is {}\".format(rfc_grid.best_score_))\n",
    "print(\"The best hyper parameter setting is {}\".format(rfc_grid.best_params_))\n"
   ]
  },
  {
   "cell_type": "code",
   "execution_count": 13,
   "metadata": {
    "colab": {
     "base_uri": "https://localhost:8080/"
    },
    "id": "A-QIiSlbAaEg",
    "outputId": "4ba30cd5-7d8d-4b8e-a18b-854baeb65fa9"
   },
   "outputs": [
    {
     "name": "stdout",
     "output_type": "stream",
     "text": [
      "model accuracy: 0.9777777777777777\n",
      "model confusion matrix:\n",
      " [[16  0  0]\n",
      " [ 0 17  1]\n",
      " [ 0  0 11]]\n"
     ]
    }
   ],
   "source": [
    "test_z= rfc_grid.predict(test_x)\n",
    "\n",
    "print(\"model accuracy: {}\".format(accuracy_score(test_y, test_z)))\n",
    "print(\"model confusion matrix:\\n {}\".format(confusion_matrix(test_y, test_z, labels=['Iris-setosa', 'Iris-versicolor', 'Iris-virginica'])))"
   ]
  },
  {
   "cell_type": "markdown",
   "metadata": {
    "id": "VKgNC7kzIWNC"
   },
   "source": [
    "### Adaboost\n",
    "\n",
    "**Apply Adaboost together with Gridsearch to the Iris dataset and evaluating its accuracy.**"
   ]
  },
  {
   "cell_type": "code",
   "execution_count": 14,
   "metadata": {
    "colab": {
     "base_uri": "https://localhost:8080/"
    },
    "id": "hDcP-xy_IXFF",
    "outputId": "eabfc20a-1748-4ffc-ac42-c12fbac18426"
   },
   "outputs": [
    {
     "name": "stdout",
     "output_type": "stream",
     "text": [
      "The best score is 0.9619047619047619\n",
      "The best hyper parameter setting is {'learning_rate': 0.1, 'n_estimators': 20}\n"
     ]
    }
   ],
   "source": [
    "from sklearn.ensemble import AdaBoostClassifier\n",
    "parameters = {\n",
    "    \"n_estimators\": [20,40],\n",
    "    \"learning_rate\": [0.01,0.1,1,10],\n",
    "}\n",
    "\n",
    "adaboost= AdaBoostClassifier(DecisionTreeClassifier(max_depth=3), random_state=0)\n",
    "adaboost_grid = GridSearchCV(adaboost, parameters, cv=3, n_jobs=-1)\n",
    "adaboost_grid.fit(train_x, train_y)\n",
    "\n",
    "print(\"The best score is {}\".format(adaboost_grid.best_score_))\n",
    "print(\"The best hyper parameter setting is {}\".format(adaboost_grid.best_params_))"
   ]
  },
  {
   "cell_type": "code",
   "execution_count": 15,
   "metadata": {
    "colab": {
     "base_uri": "https://localhost:8080/"
    },
    "id": "gREvkZoxPySH",
    "outputId": "43a1d851-83e6-4d9a-c826-c17f13f365e0"
   },
   "outputs": [
    {
     "name": "stdout",
     "output_type": "stream",
     "text": [
      "model accuracy: 0.9777777777777777\n",
      "model confusion matrix:\n",
      " [[16  0  0]\n",
      " [ 0 17  1]\n",
      " [ 0  0 11]]\n"
     ]
    }
   ],
   "source": [
    "test_z= adaboost_grid.predict(test_x)\n",
    "\n",
    "print(\"model accuracy: {}\".format(accuracy_score(test_y, test_z)))\n",
    "print(\"model confusion matrix:\\n {}\".format(confusion_matrix(test_y, test_z, labels=['Iris-setosa', 'Iris-versicolor', 'Iris-virginica'])))"
   ]
  },
  {
   "cell_type": "markdown",
   "metadata": {
    "id": "tpZFN60NIWdK"
   },
   "source": [
    "### Gradient Boosting\n",
    "\n",
    "**Apply Boosting together with Gridsearch to the Iris dataset and evaluating its accuracy.**"
   ]
  },
  {
   "cell_type": "code",
   "execution_count": 16,
   "metadata": {
    "colab": {
     "base_uri": "https://localhost:8080/"
    },
    "id": "mmRcvEkSIXrR",
    "outputId": "e3a0e3b5-ee1e-4562-e529-d9fd2a128a98"
   },
   "outputs": [
    {
     "name": "stdout",
     "output_type": "stream",
     "text": [
      "The best score is 0.9714285714285715\n",
      "The best hyper parameter setting is {'learning_rate': 0.1, 'loss': 'deviance', 'max_depth': 3, 'min_samples_split': 0.2, 'n_estimators': 150}\n"
     ]
    }
   ],
   "source": [
    "from sklearn.ensemble import GradientBoostingClassifier\n",
    "\n",
    "parameters = {\n",
    "    \"loss\": [\"deviance\"],\n",
    "    \"learning_rate\": [0.01, 0.1],\n",
    "    \"min_samples_split\": [.05,.1, .2],\n",
    "    \"max_depth\":[2, 3, 4],\n",
    "    \"n_estimators\":[80, 120, 150]\n",
    "}\n",
    "\n",
    "gbc_grid = GridSearchCV(GradientBoostingClassifier(), parameters, cv=3, n_jobs=-1)\n",
    "gbc_grid.fit(train_x, train_y)\n",
    "\n",
    "print(\"The best score is {}\".format(gbc_grid.best_score_))\n",
    "print(\"The best hyper parameter setting is {}\".format(gbc_grid.best_params_))\n"
   ]
  },
  {
   "cell_type": "code",
   "execution_count": 17,
   "metadata": {
    "colab": {
     "base_uri": "https://localhost:8080/"
    },
    "id": "NB4lGMZEXMcT",
    "outputId": "065510bf-5778-4c31-8bbb-e7cad81840ac"
   },
   "outputs": [
    {
     "name": "stdout",
     "output_type": "stream",
     "text": [
      "model accuracy: 0.9777777777777777\n",
      "model confusion matrix:\n",
      " [[16  0  0]\n",
      " [ 0 17  1]\n",
      " [ 0  0 11]]\n"
     ]
    }
   ],
   "source": [
    "test_z= gbc_grid.predict(test_x)\n",
    "\n",
    "print(\"model accuracy: {}\".format(accuracy_score(test_y, test_z)))\n",
    "print(\"model confusion matrix:\\n {}\".format(confusion_matrix(test_y, test_z, labels=['Iris-setosa', 'Iris-versicolor', 'Iris-virginica'])))"
   ]
  },
  {
   "cell_type": "markdown",
   "metadata": {
    "id": "aTlPSt2Uhs26"
   },
   "source": [
    "---"
   ]
  },
  {
   "cell_type": "markdown",
   "metadata": {
    "id": "3odrweXdhs28"
   },
   "source": [
    "## California Housing Dataset\n",
    "\n",
    "The California Housing dataset appeared in a 1997 paper titled Sparse Spatial Autoregressions by Pace, R. Kelley and Ronald Barry, published in the Statistics and Probability Letters journal. They built it using the 1990 California census data. It contains one row per census block group. A block group is the smallest geographical unit for which the U.S. Census Bureau publishes sample data (a block group typically has a population of 600 to 3,000 people). "
   ]
  },
  {
   "cell_type": "code",
   "execution_count": 18,
   "metadata": {
    "id": "8zXK2RFshs29"
   },
   "outputs": [],
   "source": [
    "# Load train and test data from CSV files.\n",
    "train = pd.read_csv('Californiatrain.csv')\n",
    "test = pd.read_csv('Californiatest.csv')\n",
    "\n",
    "train_x = train.iloc[:,0:8]\n",
    "train_y = train.iloc[:,8]\n",
    "\n",
    "test_x = test.iloc[:,0:8]\n",
    "test_y = test.iloc[:,8]\n"
   ]
  },
  {
   "cell_type": "code",
   "execution_count": 19,
   "metadata": {
    "colab": {
     "base_uri": "https://localhost:8080/"
    },
    "id": "C-Xv_wdQJob8",
    "outputId": "a54b72f2-6404-42e2-bfb6-af74e0562eb0"
   },
   "outputs": [
    {
     "name": "stdout",
     "output_type": "stream",
     "text": [
      "The best score is 0.7013701255997985\n",
      "The best hyper parameter setting is {'max_depth': 1000, 'min_samples_split': 0.01}\n"
     ]
    }
   ],
   "source": [
    "#Decision Tree \n",
    "from sklearn.tree import DecisionTreeRegressor\n",
    "\n",
    "parameters = {\n",
    "              \"max_depth\": [50,100,200,500,1000],\n",
    "              \"min_samples_split\": [0.001, 0.01,0.05,0.1]\n",
    "              }\n",
    "\n",
    "dt = DecisionTreeRegressor()\n",
    "grid = GridSearchCV(dt,parameters, cv=3, n_jobs=-1)\n",
    "grid.fit (train_x, train_y)\n",
    "\n",
    "print(\"The best score is {}\".format(grid.best_score_))\n",
    "print(\"The best hyper parameter setting is {}\".format(grid.best_params_))"
   ]
  },
  {
   "cell_type": "code",
   "execution_count": 20,
   "metadata": {
    "colab": {
     "base_uri": "https://localhost:8080/"
    },
    "id": "09bp8pnakYWH",
    "outputId": "ad79edf3-8a4a-4035-dace-96640e6b954b"
   },
   "outputs": [
    {
     "name": "stdout",
     "output_type": "stream",
     "text": [
      "model accuracy: 0.7117913544460708\n"
     ]
    }
   ],
   "source": [
    "from sklearn.metrics import r2_score\n",
    "test_z= grid.predict(test_x)\n",
    "\n",
    "print(\"model accuracy: {}\".format(r2_score(test_y, test_z)))"
   ]
  },
  {
   "cell_type": "code",
   "execution_count": 21,
   "metadata": {
    "colab": {
     "base_uri": "https://localhost:8080/"
    },
    "id": "nq3XuuuxkxtL",
    "outputId": "b06049bc-71f8-4c2c-9cb6-8a6c2e577bc2"
   },
   "outputs": [
    {
     "name": "stdout",
     "output_type": "stream",
     "text": [
      "The best score is 0.8168887119390121\n",
      "The best hyper parameter setting is {'learning_rate': 0.1, 'max_depth': 100, 'min_samples_split': 0.01, 'n_estimators': 100}\n"
     ]
    }
   ],
   "source": [
    "# Gradient Boosting\n",
    "from sklearn.ensemble import GradientBoostingRegressor\n",
    "parameters = {\n",
    "    \"learning_rate\": [0.01, 0.1],\n",
    "    \"min_samples_split\": [.001,.01, .1],\n",
    "    \"max_depth\":[50,100, 200],\n",
    "    \"n_estimators\":[50,100]\n",
    "}\n",
    "\n",
    "gbr_grid = GridSearchCV(GradientBoostingRegressor(), parameters, cv=3)\n",
    "gbr_grid.fit(train_x, train_y)\n",
    "\n",
    "print(\"The best score is {}\".format(gbr_grid.best_score_))\n",
    "print(\"The best hyper parameter setting is {}\".format(gbr_grid.best_params_))"
   ]
  },
  {
   "cell_type": "code",
   "execution_count": 22,
   "metadata": {
    "colab": {
     "base_uri": "https://localhost:8080/"
    },
    "id": "_ny1Nh4Ek6VA",
    "outputId": "960963ef-32e0-468d-d248-7ce75d66367d"
   },
   "outputs": [
    {
     "name": "stdout",
     "output_type": "stream",
     "text": [
      "model accuracy: 0.8277967335899288\n"
     ]
    }
   ],
   "source": [
    "test_z= gbr_grid.predict(test_x)\n",
    "\n",
    "print(\"model accuracy: {}\".format(r2_score(test_y, test_z)))"
   ]
  }
 ],
 "metadata": {
  "colab": {
   "collapsed_sections": [],
   "name": "MSIS522_Assignment2EMM.ipynb",
   "provenance": []
  },
  "kernelspec": {
   "display_name": "Python 3",
   "language": "python",
   "name": "python3"
  },
  "language_info": {
   "codemirror_mode": {
    "name": "ipython",
    "version": 3
   },
   "file_extension": ".py",
   "mimetype": "text/x-python",
   "name": "python",
   "nbconvert_exporter": "python",
   "pygments_lexer": "ipython3",
   "version": "3.8.8"
  }
 },
 "nbformat": 4,
 "nbformat_minor": 1
}
