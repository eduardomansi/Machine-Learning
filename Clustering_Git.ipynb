{
 "cells": [
  {
   "cell_type": "markdown",
   "metadata": {
    "id": "zK7EWLIXRu0C"
   },
   "source": [
    "# Clustering"
   ]
  },
  {
   "cell_type": "markdown",
   "metadata": {},
   "source": [
    "Clustering algorithms seek to learn, from the properties of the data, an optimal division or discrete labeling of groups of points."
   ]
  },
  {
   "cell_type": "markdown",
   "metadata": {
    "id": "1Bq6HcaJSzWe"
   },
   "source": [
    "## Segmenting Customers"
   ]
  },
  {
   "cell_type": "markdown",
   "metadata": {
    "id": "5dKNjMuKRu0E"
   },
   "source": [
    "The problem that this project intends to solve is to segment customers into different groups based on their shopping trends."
   ]
  },
  {
   "cell_type": "code",
   "execution_count": 2,
   "metadata": {
    "id": "snzfWDzvRu0F"
   },
   "outputs": [],
   "source": [
    "# import packages\n",
    "%matplotlib inline\n",
    "import numpy as np\n",
    "import pandas as pd\n",
    "import matplotlib.pyplot as plt\n",
    "import seaborn as sns\n",
    "sns.set()"
   ]
  },
  {
   "cell_type": "markdown",
   "metadata": {
    "id": "O5K8-XTXRu0K"
   },
   "source": [
    "### Loading the data\n",
    "\n",
    "The dataset has five columns: CustomerID, Genre, Age, Annual Income, and Spending Score. To view the results in two-dimensional feature space, I will retain only two of these five columns. I will remove CustomerID column, Genre, and Age column. And I will retain the Annual Income (in thousands of dollars) and Spending Score (1-100) columns. The Spending Score column signifies how often a person spends money in a mall on a scale of 1 to 100 with 100 being the highest spender."
   ]
  },
  {
   "cell_type": "code",
   "execution_count": 3,
   "metadata": {
    "colab": {
     "base_uri": "https://localhost:8080/",
     "height": 391
    },
    "id": "lbOcjmnqRu0L",
    "outputId": "e1a862df-0493-4580-fd33-0fc78e3f1eb2"
   },
   "outputs": [
    {
     "data": {
      "text/html": [
       "<div>\n",
       "<style scoped>\n",
       "    .dataframe tbody tr th:only-of-type {\n",
       "        vertical-align: middle;\n",
       "    }\n",
       "\n",
       "    .dataframe tbody tr th {\n",
       "        vertical-align: top;\n",
       "    }\n",
       "\n",
       "    .dataframe thead th {\n",
       "        text-align: right;\n",
       "    }\n",
       "</style>\n",
       "<table border=\"1\" class=\"dataframe\">\n",
       "  <thead>\n",
       "    <tr style=\"text-align: right;\">\n",
       "      <th></th>\n",
       "      <th>customer_id</th>\n",
       "      <th>genre</th>\n",
       "      <th>age</th>\n",
       "      <th>annual_income</th>\n",
       "      <th>spending_score</th>\n",
       "    </tr>\n",
       "  </thead>\n",
       "  <tbody>\n",
       "    <tr>\n",
       "      <th>0</th>\n",
       "      <td>1</td>\n",
       "      <td>Male</td>\n",
       "      <td>19</td>\n",
       "      <td>15</td>\n",
       "      <td>39</td>\n",
       "    </tr>\n",
       "    <tr>\n",
       "      <th>1</th>\n",
       "      <td>2</td>\n",
       "      <td>Male</td>\n",
       "      <td>21</td>\n",
       "      <td>15</td>\n",
       "      <td>81</td>\n",
       "    </tr>\n",
       "    <tr>\n",
       "      <th>2</th>\n",
       "      <td>3</td>\n",
       "      <td>Female</td>\n",
       "      <td>20</td>\n",
       "      <td>16</td>\n",
       "      <td>6</td>\n",
       "    </tr>\n",
       "    <tr>\n",
       "      <th>3</th>\n",
       "      <td>4</td>\n",
       "      <td>Female</td>\n",
       "      <td>23</td>\n",
       "      <td>16</td>\n",
       "      <td>77</td>\n",
       "    </tr>\n",
       "    <tr>\n",
       "      <th>4</th>\n",
       "      <td>5</td>\n",
       "      <td>Female</td>\n",
       "      <td>31</td>\n",
       "      <td>17</td>\n",
       "      <td>40</td>\n",
       "    </tr>\n",
       "  </tbody>\n",
       "</table>\n",
       "</div>"
      ],
      "text/plain": [
       "   customer_id   genre  age  annual_income  spending_score\n",
       "0            1    Male   19             15              39\n",
       "1            2    Male   21             15              81\n",
       "2            3  Female   20             16               6\n",
       "3            4  Female   23             16              77\n",
       "4            5  Female   31             17              40"
      ]
     },
     "metadata": {},
     "output_type": "display_data"
    },
    {
     "data": {
      "text/html": [
       "<div>\n",
       "<style scoped>\n",
       "    .dataframe tbody tr th:only-of-type {\n",
       "        vertical-align: middle;\n",
       "    }\n",
       "\n",
       "    .dataframe tbody tr th {\n",
       "        vertical-align: top;\n",
       "    }\n",
       "\n",
       "    .dataframe thead th {\n",
       "        text-align: right;\n",
       "    }\n",
       "</style>\n",
       "<table border=\"1\" class=\"dataframe\">\n",
       "  <thead>\n",
       "    <tr style=\"text-align: right;\">\n",
       "      <th></th>\n",
       "      <th>annual_income</th>\n",
       "      <th>spending_score</th>\n",
       "    </tr>\n",
       "  </thead>\n",
       "  <tbody>\n",
       "    <tr>\n",
       "      <th>0</th>\n",
       "      <td>15</td>\n",
       "      <td>39</td>\n",
       "    </tr>\n",
       "    <tr>\n",
       "      <th>1</th>\n",
       "      <td>15</td>\n",
       "      <td>81</td>\n",
       "    </tr>\n",
       "    <tr>\n",
       "      <th>2</th>\n",
       "      <td>16</td>\n",
       "      <td>6</td>\n",
       "    </tr>\n",
       "    <tr>\n",
       "      <th>3</th>\n",
       "      <td>16</td>\n",
       "      <td>77</td>\n",
       "    </tr>\n",
       "    <tr>\n",
       "      <th>4</th>\n",
       "      <td>17</td>\n",
       "      <td>40</td>\n",
       "    </tr>\n",
       "  </tbody>\n",
       "</table>\n",
       "</div>"
      ],
      "text/plain": [
       "   annual_income  spending_score\n",
       "0             15              39\n",
       "1             15              81\n",
       "2             16               6\n",
       "3             16              77\n",
       "4             17              40"
      ]
     },
     "execution_count": 3,
     "metadata": {},
     "output_type": "execute_result"
    }
   ],
   "source": [
    "# load the data\n",
    "shopping_data = pd.read_csv('https://raw.githubusercontent.com/zariable/data/master/shopping_data.csv')\n",
    "shopping_data.rename(\n",
    "    columns={\n",
    "        'CustomerID': 'customer_id',\n",
    "        'Genre': 'genre',\n",
    "        'Age': 'age',\n",
    "        'Annual Income (k$)': 'annual_income',\n",
    "        'Spending Score (1-100)': 'spending_score'\n",
    "    },\n",
    "    inplace=True\n",
    ")\n",
    "display(shopping_data.head())\n",
    "\n",
    "# Retaining only anual_income and spending_score for clustering\n",
    "df=shopping_data[['annual_income','spending_score']]\n",
    "df.head()"
   ]
  },
  {
   "cell_type": "markdown",
   "metadata": {
    "id": "Wx6deWgoRu0O"
   },
   "source": [
    "### Hierarchical Clustering\n",
    "First, I will apply hierarchical clustering and use dendrogram to help me find the number of clusters within the data that makes sense."
   ]
  },
  {
   "cell_type": "code",
   "execution_count": 4,
   "metadata": {
    "colab": {
     "base_uri": "https://localhost:8080/",
     "height": 447
    },
    "id": "11EVF7NPRu0P",
    "outputId": "9c8318ca-d211-46eb-9a3b-f0884c65a484"
   },
   "outputs": [
    {
     "data": {
      "image/png": "[encoded data removed]",
      "text/plain": [
       "<Figure size 720x504 with 1 Axes>"
      ]
     },
     "metadata": {},
     "output_type": "display_data"
    }
   ],
   "source": [
    "import scipy.cluster.hierarchy as shc\n",
    "plt.figure(figsize=(10,7))\n",
    "plt.title('Dendrogram')\n",
    "dend= shc.dendrogram(shc.linkage(df, method='ward'))"
   ]
  },
  {
   "cell_type": "code",
   "execution_count": 4,
   "metadata": {
    "id": "2ArEE0U5701B"
   },
   "outputs": [],
   "source": [
    "#We can observe from the Dendrogram that there are mainly 5 distingushed \n",
    "#clusters."
   ]
  },
  {
   "cell_type": "markdown",
   "metadata": {
    "id": "x_8vcGNyRu0T"
   },
   "source": [
    "**Applying hierarchical clustering based on the number of clusters picked from the dendrogram, and visualizing the results using scatterplot.**"
   ]
  },
  {
   "cell_type": "code",
   "execution_count": 21,
   "metadata": {
    "colab": {
     "base_uri": "https://localhost:8080/",
     "height": 268
    },
    "id": "ZDz8vl9rRu0T",
    "outputId": "483f5ec9-620c-4270-f4f9-5d5fa802fe9b"
   },
   "outputs": [
    {
     "data": {
      "image/png": "[encoded data removed]",
      "text/plain": [
       "<Figure size 432x288 with 1 Axes>"
      ]
     },
     "metadata": {
      "needs_background": "light"
     },
     "output_type": "display_data"
    }
   ],
   "source": [
    "from sklearn.cluster import AgglomerativeClustering\n",
    "\n",
    "hc= AgglomerativeClustering(n_clusters=5,affinity='euclidean',linkage='ward')\n",
    "y_ward =hc.fit_predict(df)\n",
    "plt.scatter(df.iloc[:,0],df.iloc[:,1],c=y_ward,s=50,cmap='viridis')\n",
    "plt.show()"
   ]
  },
  {
   "cell_type": "markdown",
   "metadata": {
    "id": "zc1jqvW7Ru0W"
   },
   "source": [
    "### K-means Clustering\n",
    "Then, I will apply k-means to the same data and visualize the results.\n",
    "\n",
    "**Varying the number of K from 2 to 10 and plotting the Sum of Squared Error (SSE) as K increases and picking up the value of K that makes sense.**"
   ]
  },
  {
   "cell_type": "code",
   "execution_count": 22,
   "metadata": {
    "colab": {
     "base_uri": "https://localhost:8080/",
     "height": 285
    },
    "id": "7gC5iFpoRu0Y",
    "outputId": "63c39c47-d711-4d35-f302-3ec275daecbd"
   },
   "outputs": [
    {
     "data": {
      "image/png": "[encoded data removed]",
      "text/plain": [
       "<Figure size 432x288 with 1 Axes>"
      ]
     },
     "metadata": {
      "needs_background": "light"
     },
     "output_type": "display_data"
    }
   ],
   "source": [
    "from pandas.core.common import random_state\n",
    "from sklearn.cluster import KMeans\n",
    "SSE=[]\n",
    "for k in range(2,11):\n",
    "  kmeans= KMeans(n_clusters=k, random_state=0)\n",
    "  kmeans.fit(df)\n",
    "  SSE.append(kmeans.inertia_)\n",
    "\n",
    "plt.plot(range(2,11),SSE,'-o')\n",
    "plt.ylabel('SSE')\n",
    "plt.xlabel('Number of clusters')\n",
    "plt.show()"
   ]
  },
  {
   "cell_type": "code",
   "execution_count": 11,
   "metadata": {
    "id": "aHH-m2XsGVPk"
   },
   "outputs": [],
   "source": [
    "#We can observe again that 5 clusters was a great option \n",
    "#since it's an elbow point and from there on the reduction in SSE from generating more clusters is not very significant."
   ]
  },
  {
   "cell_type": "markdown",
   "metadata": {
    "id": "52XDinaTRu0b"
   },
   "source": [
    "**Clustering the data using K-means based on the pre-defined value of K from the previous step and and visualizing the results using scatterplot. **"
   ]
  },
  {
   "cell_type": "code",
   "execution_count": 20,
   "metadata": {
    "colab": {
     "base_uri": "https://localhost:8080/",
     "height": 268
    },
    "id": "SWQ4KJp-Ru0b",
    "outputId": "71a47a75-5f17-4a65-ad19-14bc3c6004a7"
   },
   "outputs": [
    {
     "data": {
      "image/png": "[encoded data removed]",
      "text/plain": [
       "<Figure size 432x288 with 1 Axes>"
      ]
     },
     "metadata": {
      "needs_background": "light"
     },
     "output_type": "display_data"
    }
   ],
   "source": [
    "Kmeans=KMeans(n_clusters=5)\n",
    "Kmeans.fit(df)\n",
    "y_means= Kmeans.predict(df)\n",
    "plt.scatter(df.iloc[:,0],df.iloc[:,1], c=y_means, s=50,cmap='viridis')\n",
    "plt.show()"
   ]
  },
  {
   "cell_type": "markdown",
   "metadata": {
    "id": "TuA0ZcPfRu0e"
   },
   "source": [
    "## Clasifying Papers\n",
    "I will be using the dataset of accepted papers at the AAAI 2014 conference to find clusters of papers using K-Means. \n",
    "\n",
    "I will be varying the number of K from 2 to 6 and showing if the results vary and assess the clusters obtained.\n"
   ]
  },
  {
   "cell_type": "code",
   "execution_count": 44,
   "metadata": {
    "id": "sgqqIL0PRu0f"
   },
   "outputs": [],
   "source": [
    "# Loading the Relevant libraries\n",
    "import sklearn as sk\n",
    "from sklearn.feature_extraction.text import TfidfVectorizer\n",
    "from sklearn.metrics import adjusted_rand_score\n",
    "\n",
    "# URL for the AAAI (UW Repository)\n",
    "aaai_data = pd.read_csv(\"https://raw.githubusercontent.com/zariable/data/master/AAAI2014AcceptedPapers.csv\")\n"
   ]
  },
  {
   "cell_type": "code",
   "execution_count": 89,
   "metadata": {
    "colab": {
     "base_uri": "https://localhost:8080/"
    },
    "id": "fvQ2v2Zlb-XE",
    "outputId": "108b52c2-2b2c-42b1-918b-4c7ba346676e"
   },
   "outputs": [
    {
     "name": "stdout",
     "output_type": "stream",
     "text": [
      "--------------\n",
      "Top terms per cluster:\n",
      "Cluster 0:\n",
      " based\n",
      " linear\n",
      " embedding\n",
      " quality\n",
      " data\n",
      " search\n",
      " constraint\n",
      " analysis\n",
      " monte\n",
      " carlo\n",
      "Cluster 1:\n",
      " learning\n",
      " multi\n",
      " using\n",
      " based\n",
      " planning\n",
      " model\n",
      " social\n",
      " online\n",
      " sparse\n",
      " search\n",
      "--------------\n",
      "Top terms per cluster:\n",
      "Cluster 0:\n",
      " learning\n",
      " multi\n",
      " models\n",
      " social\n",
      " sparse\n",
      " using\n",
      " games\n",
      " data\n",
      " natural\n",
      " robust\n",
      "Cluster 1:\n",
      " planning\n",
      " model\n",
      " based\n",
      " constraints\n",
      " search\n",
      " using\n",
      " counting\n",
      " checking\n",
      " uncertainty\n",
      " framework\n",
      "Cluster 2:\n",
      " classification\n",
      " supervised\n",
      " analysis\n",
      " image\n",
      " learning\n",
      " embedding\n",
      " based\n",
      " using\n",
      " group\n",
      " social\n",
      "--------------\n",
      "Top terms per cluster:\n",
      "Cluster 0:\n",
      " using\n",
      " model\n",
      " based\n",
      " planning\n",
      " search\n",
      " social\n",
      " games\n",
      " probabilistic\n",
      " linear\n",
      " online\n",
      "Cluster 1:\n",
      " learning\n",
      " sparse\n",
      " multi\n",
      " view\n",
      " transfer\n",
      " robust\n",
      " instance\n",
      " bayesian\n",
      " models\n",
      " feature\n",
      "Cluster 2:\n",
      " language\n",
      " based\n",
      " agent\n",
      " natural\n",
      " robot\n",
      " search\n",
      " human\n",
      " group\n",
      " task\n",
      " multi\n",
      "Cluster 3:\n",
      " classification\n",
      " machine\n",
      " approach\n",
      " text\n",
      " image\n",
      " learning\n",
      " web\n",
      " class\n",
      " transfer\n",
      " translation\n",
      "--------------\n",
      "Top terms per cluster:\n",
      "Cluster 0:\n",
      " search\n",
      " large\n",
      " linear\n",
      " planning\n",
      " scale\n",
      " label\n",
      " non\n",
      " games\n",
      " prediction\n",
      " user\n",
      "Cluster 1:\n",
      " using\n",
      " constraint\n",
      " checking\n",
      " real\n",
      " fast\n",
      " search\n",
      " optimal\n",
      " partitioning\n",
      " time\n",
      " algorithms\n",
      "Cluster 2:\n",
      " social\n",
      " networks\n",
      " choice\n",
      " analysis\n",
      " media\n",
      " learning\n",
      " randomized\n",
      " online\n",
      " image\n",
      " recommender\n",
      "Cluster 3:\n",
      " learning\n",
      " multi\n",
      " sparse\n",
      " models\n",
      " transfer\n",
      " view\n",
      " rank\n",
      " probabilistic\n",
      " embedding\n",
      " instance\n",
      "Cluster 4:\n",
      " based\n",
      " model\n",
      " language\n",
      " agent\n",
      " learning\n",
      " natural\n",
      " data\n",
      " robot\n",
      " domain\n",
      " counting\n",
      "--------------\n",
      "Top terms per cluster:\n",
      "Cluster 0:\n",
      " using\n",
      " planning\n",
      " online\n",
      " games\n",
      " efficient\n",
      " classification\n",
      " social\n",
      " model\n",
      " linear\n",
      " tensor\n",
      "Cluster 1:\n",
      " based\n",
      " knowledge\n",
      " data\n",
      " model\n",
      " cross\n",
      " heterogeneous\n",
      " modeling\n",
      " learning\n",
      " active\n",
      " quality\n",
      "Cluster 2:\n",
      " networks\n",
      " large\n",
      " social\n",
      " monte\n",
      " carlo\n",
      " embedding\n",
      " reasoning\n",
      " scale\n",
      " using\n",
      " linear\n",
      "Cluster 3:\n",
      " search\n",
      " local\n",
      " maxsat\n",
      " partial\n",
      " satisficing\n",
      " satisfiability\n",
      " real\n",
      " exploration\n",
      " time\n",
      " portfolio\n",
      "Cluster 4:\n",
      " design\n",
      " constraints\n",
      " framework\n",
      " model\n",
      " sampling\n",
      " information\n",
      " belief\n",
      " time\n",
      " solving\n",
      " graphs\n",
      "Cluster 5:\n",
      " learning\n",
      " multi\n",
      " sparse\n",
      " transfer\n",
      " view\n",
      " task\n",
      " instance\n",
      " models\n",
      " feature\n",
      " robust\n"
     ]
    }
   ],
   "source": [
    "df=aaai_data['title'].values.astype(\"U\")\n",
    "vectorizer=TfidfVectorizer(stop_words='english')\n",
    "df=vectorizer.fit_transform(df)\n",
    "for k in range(2,7):\n",
    "  kmeans= KMeans(n_clusters=k, init='k-means++', max_iter=100, n_init=1)\n",
    "  kmeans.fit(df)\n",
    "  print('--------------')\n",
    "  print(\"Top terms per cluster:\")\n",
    "  order_centroids = kmeans.cluster_centers_.argsort()[:, ::-1]\n",
    "  terms = vectorizer.get_feature_names_out()\n",
    "  for i in range(k):\n",
    "    print(\"Cluster %d:\" % i),\n",
    "    for ind in order_centroids[i, :10]:\n",
    "        print(' %s' % terms[ind]),\n",
    "    "
   ]
  }
 ],
 "metadata": {
  "colab": {
   "collapsed_sections": [],
   "name": "MSIS522_Assignment3EMM.ipynb",
   "provenance": []
  },
  "kernelspec": {
   "display_name": "Python 3",
   "language": "python",
   "name": "python3"
  },
  "language_info": {
   "codemirror_mode": {
    "name": "ipython",
    "version": 3
   },
   "file_extension": ".py",
   "mimetype": "text/x-python",
   "name": "python",
   "nbconvert_exporter": "python",
   "pygments_lexer": "ipython3",
   "version": "3.8.8"
  }
 },
 "nbformat": 4,
 "nbformat_minor": 1
}
